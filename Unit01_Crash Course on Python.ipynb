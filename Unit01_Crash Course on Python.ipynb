{
 "cells": [
  {
   "cell_type": "markdown",
   "metadata": {},
   "source": [
    "# Python programming \n",
    "## Crash Course on Python Coding Practice\n",
    "\n",
    "No matter the level of mastery you hope to get to in Python,<br> \n",
    "you'll need these fundamentals in place before you jump into any project.<br><br>\n",
    "\n",
    "You need to know how to:\n",
    "\n",
    "- declare variables\n",
    "- collect user input\n",
    "- store information\n",
    "- repeat an action through loops\n",
    "- write functions to repeat blocks of code\n"
   ]
  },
  {
   "cell_type": "markdown",
   "metadata": {},
   "source": [
    "### 01 - 奇偶數辨別（Odd or even）\n",
    "#### 當使用者輸入一個的數字，它能夠辨別奇偶，並輸出檢驗結果給使用者。\n",
    "\n",
    "> 題目：輸入一數字判斷奇數或偶數<br>\n",
    "輸入(Input): 一個數字 <br>\n",
    "輸出(Output):奇數或偶數\n",
    "\n",
    "* 進階: 可以限制輸入一個介於一定範圍（例如 1 到 1000）的數字"
   ]
  },
  {
   "cell_type": "code",
   "execution_count": 14,
   "metadata": {},
   "outputs": [
    {
     "name": "stdin",
     "output_type": "stream",
     "text": [
      "enter num between 1-1000 555\n"
     ]
    },
    {
     "name": "stdout",
     "output_type": "stream",
     "text": [
      "odd\n"
     ]
    }
   ],
   "source": [
    "def odd_or_even(num):\n",
    "    if num<1:\n",
    "        print(\"too small\")\n",
    "        return \n",
    "    if num>1000:\n",
    "        print(\"too big\")\n",
    "        return \n",
    "    if number%2 == 0:\n",
    "        print(\"even\")\n",
    "    else:\n",
    "        print(\"odd\")\n",
    "        \n",
    "number = int(input(\"enter num between 1-1000\"))\n",
    "\n",
    "odd_or_even(number)\n"
   ]
  },
  {
   "cell_type": "markdown",
   "metadata": {},
   "source": [
    "### 02 - 填字遊戲（Mad libs game）\n",
    "#### 使用者輸入任何字，它可以是名詞、形容詞、動詞、代名詞等。程式得到文字後，可自行排列，組成成一個模板故事。\n",
    "\n",
    "> 題目：輸入一數字判斷奇數或偶數<br>\n",
    "輸入(Input): 一連串依據說明輸入對應文字 <br>\n",
    "輸出(Output): 模板故事\n",
    "\n",
    "* 進階: 可以讓程式重複執行"
   ]
  },
  {
   "cell_type": "code",
   "execution_count": 20,
   "metadata": {},
   "outputs": [
    {
     "name": "stdin",
     "output_type": "stream",
     "text": [
      "enter a name mimi\n",
      "enter a verb date\n",
      "enter an object dag\n"
     ]
    },
    {
     "name": "stdout",
     "output_type": "stream",
     "text": [
      "mimi date a dag this morning\n"
     ]
    }
   ],
   "source": [
    "s = input(\"enter a name\")\n",
    "v = input(\"enter a verb\")\n",
    "s2 = input(\"enter an object\")\n",
    "\n",
    "print(s+\" \"+v+\" \"+\"a\"+\" \"+s2+\" \"+\"this morning\")"
   ]
  },
  {
   "cell_type": "markdown",
   "metadata": {},
   "source": [
    "### 03 -  猜數字（Guess the number）\n",
    "#### 請使用者猜一個介於範圍（例如 1 到 100）之間的數字，\n",
    "#### 若使用者猜錯，就詢問他們想繼續玩還是退出；若使用者猜對，就顯示祝賀訊息，\n",
    "#### 並統計使用者的嘗試次數。如果使用者輸入的數字超出設定範圍，就顯示錯誤提示。\n",
    "\n",
    "![](data\\guess.png)\n"
   ]
  },
  {
   "cell_type": "code",
   "execution_count": 32,
   "metadata": {},
   "outputs": [
    {
     "name": "stdin",
     "output_type": "stream",
     "text": [
      "enter a number between 1-100 20\n"
     ]
    },
    {
     "name": "stdout",
     "output_type": "stream",
     "text": [
      "too small, count 1\n"
     ]
    },
    {
     "name": "stdin",
     "output_type": "stream",
     "text": [
      "if continue, enter y y\n",
      "enter a number between 1-100 33\n"
     ]
    },
    {
     "name": "stdout",
     "output_type": "stream",
     "text": [
      "too small, count 2\n"
     ]
    },
    {
     "name": "stdin",
     "output_type": "stream",
     "text": [
      "if continue, enter y y\n",
      "enter a number between 1-100 44\n"
     ]
    },
    {
     "name": "stdout",
     "output_type": "stream",
     "text": [
      "too small, count 3\n"
     ]
    },
    {
     "name": "stdin",
     "output_type": "stream",
     "text": [
      "if continue, enter y y\n",
      "enter a number between 1-100 55\n"
     ]
    },
    {
     "name": "stdout",
     "output_type": "stream",
     "text": [
      "too small, count 4\n"
     ]
    },
    {
     "name": "stdin",
     "output_type": "stream",
     "text": [
      "if continue, enter y 66\n"
     ]
    },
    {
     "name": "stdout",
     "output_type": "stream",
     "text": [
      "you loose\n"
     ]
    }
   ],
   "source": [
    "limit = 10\n",
    "aws = 77\n",
    "count = 0\n",
    "\n",
    "for i in range(1,limit):\n",
    "    a = int(input(\"enter a number between 1-100\"))\n",
    "    if a>100:\n",
    "        print(\"out of range\")\n",
    "        \n",
    "    if a<1:\n",
    "        print(\"out of range\")\n",
    "        \n",
    "    if a == aws:\n",
    "        count+=1\n",
    "        print(\"correct!\" + \" count \" + str(count))\n",
    "        break\n",
    "        \n",
    "    elif a>aws:\n",
    "        count+=1\n",
    "        print(\"too big,\" + \" count \" + str(count))\n",
    "        q = input(\"if continue, enter y\")\n",
    "        if q != \"y\":\n",
    "            break\n",
    "        \n",
    "    elif a<aws:\n",
    "        count+=1\n",
    "        print(\"too small,\" + \" count \" + str(count))\n",
    "        q = input(\"if continue, enter y\")\n",
    "        if q != \"y\":\n",
    "            break\n",
    "        \n",
    "if a != aws:\n",
    "    print(\"you loose\")\n",
    "    "
   ]
  },
  {
   "cell_type": "markdown",
   "metadata": {},
   "source": [
    "### 04 - 計算字數（Word count）\n",
    "#### 使用者輸入一段文字或讀取一檔案，程式統計字數。\n",
    "\n",
    "> 輸入(Input):我要成為寫程式的專家 <br>\n",
    "輸出(Output):你用了 10 個文字述說內心的想法\n",
    "\n",
    "#### 在特定的文章字串中搜尋輸入的特定字，請使用者輸入欲搜尋的文字，印出總共有幾個。<br>\n",
    ">輸入(Input):天<br>\n",
    "輸出(Output): 9\n",
    "\n",
    "* 進階:計算文章中去除標點符號後的字數，找出文章中出現最多的字與次數"
   ]
  },
  {
   "cell_type": "code",
   "execution_count": 53,
   "metadata": {},
   "outputs": [
    {
     "name": "stdin",
     "output_type": "stream",
     "text": [
      "enter a piece of text 在深邃的森林中，一座古老的石塔孤獨地聳立。石塔被濃密的靄霧包圍，只有當月亮高掛天際時，其輪廓才隱約可見。傳說中，這座塔是由一位遠古的法師建造，裡面藏有無盡的秘密和力量。每當夜幕降臨，周圍的樹木低語，彷彿在訴說著關於塔內的神秘和未解之謎。\n",
      "enter the word you want to search 的\n"
     ]
    },
    {
     "name": "stdout",
     "output_type": "stream",
     "text": [
      "the word count of the paragraph is: 118\n",
      "the amount of word \"的\" is: 7\n",
      "the word count witout punctuation is: 118\n",
      "the character show up the most is:   with showing up 11 times\n"
     ]
    }
   ],
   "source": [
    "p = input(\"enter a piece of text\")\n",
    "\n",
    "# 搜尋輸入的特定字，印出總共有幾個。\n",
    "t = input(\"enter the word you want to search\")\n",
    "count = 0\n",
    "for i in p:\n",
    "    if i == t:\n",
    "        count += 1\n",
    "\n",
    "# 刪除標點符號\n",
    "for i in '，。；:?「」':\n",
    "    p_no_punc = p_no_punc.replace(i, \" \")\n",
    "\n",
    "\n",
    "# 在沒有標點符號的文章中找出出現最多次的字和其次數\n",
    "maxch = \"\"\n",
    "maxcount = 0\n",
    "for i in p_no_punc:\n",
    "    a = p_no_punc.count(i)\n",
    "    if a > maxcount:\n",
    "        maxcount = a\n",
    "        maxch = i\n",
    "\n",
    "print(\"the word count of the paragraph is: \"+ str(len(p)))\n",
    "print(\"the amount of word \\\"\" + t + \"\\\" is: \" + str(count))\n",
    "print(\"the word count witout punctuation is: \" + str(len(p_no_punc)))\n",
    "print(\"the character show up the most is: \" + maxch + \" with showing up \" + str(maxcount) + \" times\")"
   ]
  },
  {
   "cell_type": "markdown",
   "metadata": {},
   "source": [
    "### 05 - Email 域名判斷器（Email slicer）\n",
    "#### 請用戶輸入 Email 地址，然後判斷它是自定義域名還是熱門域名。\n",
    "\n",
    "> 題目：<br>\n",
    "輸入(Input):shelly200318@hotmail.com.tw  <br>\n",
    "輸出(Output):Your username is 'shelly200318' and your domain name is 'hotmail.com.tw' <br>\n",
    "\n",
    "\n",
    "* 進階：把常用的信箱存成字典，加入判斷是否為\n",
    ">輸入(Input):mary.jane@gmail.com  <br>\n",
    "輸出(Output):這是註冊在 Google 之下的 Email 地址 <br>\n",
    "輸入(Input):matt.pan@myfantasy.com  <br>\n",
    "輸出(Output):這是在 myfantasy 之下自定義域\n",
    "\n"
   ]
  },
  {
   "cell_type": "code",
   "execution_count": 57,
   "metadata": {},
   "outputs": [
    {
     "name": "stdin",
     "output_type": "stream",
     "text": [
      "enter your email jojo@thu.edu.tw\n"
     ]
    },
    {
     "name": "stdout",
     "output_type": "stream",
     "text": [
      "your username is: jojo and domain name is: thu.edu.tw\n",
      "you registered under: thu.edu.tw\n"
     ]
    }
   ],
   "source": [
    "email = input(\"enter your email\")\n",
    "username = email[0:email.index(\"@\")]\n",
    "domainname = email[email.index(\"@\")+1:]\n",
    "print(\"your username is: \" + username + \" and domain name is: \" + domainname)\n",
    "\n",
    "domain_menu = {'gmail.com':'Google','yahoo.com.tw':'Yahoo','ntu.edu.tw':'臺大','hotmail.com.tw':'Hotmail','hotmail.com':'Hotmail'}\n",
    "if domainname in domain_menu:\n",
    "    print(\"you registered under: \" + domain_menu[domainname])\n",
    "else:\n",
    "    print(\"you registered under: \" + domainname)"
   ]
  },
  {
   "cell_type": "markdown",
   "metadata": {},
   "source": [
    "### 06 - 及格名單（Pass list）\n",
    "#### 請使用集合功能來完成各科級名單的判斷\n",
    "```\n",
    "米花市帝丹小學一年级B班正舉辦期中考試\n",
    "數學及格的有：柯南、灰原、步美、美環、光彦\n",
    "英文及格的有：柯南、灰原、丸尾、野口、步美\n",
    "以上已列出全班所有人\n",
    "```\n",
    "\n",
    ">請分別列出<br>\n",
    "數學及格但英文不及格的同學名單<br>\n",
    "數學不及格但英文及格的同學名單<br>\n",
    "兩者皆及格名單<br>\n",
    "* Hint:差集(減法)、交集\n"
   ]
  },
  {
   "cell_type": "code",
   "execution_count": 6,
   "metadata": {},
   "outputs": [
    {
     "name": "stdout",
     "output_type": "stream",
     "text": [
      "{'光彦', '美環'}\n",
      "{'丸尾', '野口'}\n",
      "{'步美', '柯南', '灰原'}\n"
     ]
    }
   ],
   "source": [
    "math = {'柯南','灰原','步美','美環','光彦'}\n",
    "english = {'柯南','灰原','丸尾','野口','步美'}\n",
    "\n",
    "only_math = math.difference(english)\n",
    "only_english = english.difference(math)\n",
    "both = math.intersection(english)\n",
    "\n",
    "print(only_math)\n",
    "print(only_english)\n",
    "print(both)\n"
   ]
  },
  {
   "cell_type": "markdown",
   "metadata": {},
   "source": [
    "### 07 - 查詢路徑下所有檔案\n",
    "#### 請使用者輸入路徑，自動抓取路徑下所有檔案名稱\n",
    "\n",
    ">輸入(Input):data\\testfile 或 D:\\code\\ML_202105\\data\\testfile  <br>\n",
    "輸出(Output):\n",
    "```\n",
    "I'm a directory: file1\n",
    "I'm a directory: file2\n",
    "I'm a File: hw_07945001.txt\n",
    "I'm a File: hw_079450010.doc\n",
    "I'm a File: hw_07945002.txt\n",
    "I'm a File: hw_07945003.txt\n",
    "I'm a File: hw_07945004.txt\n",
    "I'm a File: hw_07945005.txt\n",
    "I'm a File: hw_07945007.txt\n",
    "I'm a File: hw_07945008.txt\n",
    "I'm a File: hw_07945009.txt\n",
    "```\n",
    "\n",
    "* 進階: 把file的學號抓出來，另存成一個新的csv檔"
   ]
  },
  {
   "cell_type": "code",
   "execution_count": 14,
   "metadata": {},
   "outputs": [
    {
     "name": "stdin",
     "output_type": "stream",
     "text": [
      "輸入路徑 C:\\Users\\jocel\\Unit01\\testfile\n"
     ]
    },
    {
     "name": "stdout",
     "output_type": "stream",
     "text": [
      "I am directory: file1\n",
      "I am directory: file2\n",
      "I am file: hw_07945001.txt\n",
      "I am file: hw_079450010.doc\n",
      "I am file: hw_07945002.txt\n",
      "I am file: hw_07945003.txt\n",
      "I am file: hw_07945004.txt\n",
      "I am file: hw_07945005.txt\n",
      "I am file: hw_07945007.txt\n",
      "I am file: hw_07945008.txt\n",
      "I am file: hw_07945009.txt\n",
      "['07945001', '079450010', '07945002', '07945003', '07945004', '07945005', '07945007', '07945008', '07945009']\n"
     ]
    }
   ],
   "source": [
    "import os\n",
    "\n",
    "your_path = input('輸入路徑')\n",
    "all_file = os.listdir(your_path)\n",
    "ID = []\n",
    "\n",
    "for file in all_file:\n",
    "    if os.path.isdir(os.path.join(your_path,file)):\n",
    "        print('I am directory: ' + file)\n",
    "    elif os.path.isfile(os.path.join(your_path,file)):\n",
    "        print('I am file: ' + file)\n",
    "        ID.append(file[file.index('_')+1:file.index('.')])\n",
    "\n",
    "print(ID)\n"
   ]
  },
  {
   "cell_type": "markdown",
   "metadata": {},
   "source": [
    "### 08 - 資料夾管理(shutil)\n",
    "#### 說明 ####\n",
    "\n",
    "```\n",
    "在目前所在的目錄下建立一files資料夾\n",
    "\n",
    "令使用者輸入一數字N，並在files資料夾中建立f1, f2… fN等N個資料夾後列出files的資料夾內容\n",
    "\n",
    "將files資料夾裡的f1資料夾重新命名成folder1後再列出files的資料夾內容\n",
    "\n",
    "移除files資料夾中的folder1後再列出files的資料夾內容\n",
    "\n",
    "最後移除files資料夾\n",
    "※須先退出files資料夾(os.chdir(../)) ![image.png](attachment:image.png)\n",
    "```\n"
   ]
  },
  {
   "cell_type": "code",
   "execution_count": 3,
   "metadata": {},
   "outputs": [
    {
     "name": "stdin",
     "output_type": "stream",
     "text": [
      "輸入新增資料夾的數量 3\n"
     ]
    },
    {
     "name": "stdout",
     "output_type": "stream",
     "text": [
      "['f1', 'f2', 'f3']\n",
      "['f2', 'f3', 'folder1']\n",
      "['f2', 'f3']\n"
     ]
    }
   ],
   "source": [
    "import os\n",
    "import shutil\n",
    "\n",
    "# 建立一files資料夾\n",
    "if os.path.exists('files'):\n",
    "    shutil.rmtree('files')\n",
    "os.mkdir('files')\n",
    "\n",
    "# 在files資料夾中建立f1, f2… fN等N個資料夾\n",
    "n = int(input('輸入新增資料夾的數量'))\n",
    "os.chdir('files')\n",
    "for i in range(1,n+1):\n",
    "    os.mkdir('f' + str(i))\n",
    "print(sorted(os.listdir()))\n",
    "\n",
    "# 將files資料夾裡的f1資料夾重新命名成folder1\n",
    "os.rename('f1','folder1')\n",
    "print(sorted(os.listdir()))\n",
    "\n",
    "# 移除files資料夾中的folder1\n",
    "os.rmdir('folder1')\n",
    "print(sorted(os.listdir()))\n",
    "\n",
    "# 移除files資料夾\n",
    "os.chdir('../')\n",
    "shutil.rmtree('files')"
   ]
  },
  {
   "cell_type": "markdown",
   "metadata": {},
   "source": [
    "### 09 - 回文判斷（Is a palindrome）\n",
    "#### 請使用者輸入單字，判斷它是否為回文，也就是該單字前後對稱，例如 madam，從前讀到後或是從後讀到前的順序都是 madam。\n",
    "\n",
    "> 題目：<br>\n",
    "輸入(Input): 雨 滋 春 樹 碧 連 天  天 連 碧 樹 春 滋 雨 <br>\n",
    "輸出(Output):The text you have entered is a palindrome!<br>\n",
    "輸入(Input): 資工訓練班 <br>\n",
    "輸出(Output):The text you have entered is not a palindrome.\n"
   ]
  },
  {
   "cell_type": "code",
   "execution_count": 11,
   "metadata": {},
   "outputs": [
    {
     "name": "stdin",
     "output_type": "stream",
     "text": [
      "輸入一個字串:  aabbaa\n"
     ]
    },
    {
     "name": "stdout",
     "output_type": "stream",
     "text": [
      "是palindrome!!!\n"
     ]
    }
   ],
   "source": [
    "def is_pa(string):\n",
    "    if len(string) <= 1:\n",
    "        print('是palindrome!!!')\n",
    "        return\n",
    "\n",
    "    mid = len(string) / 2\n",
    "\n",
    "    if len(string) % 2 == 0:\n",
    "        s1 = string[:mid]\n",
    "        s2 = string[mid:]\n",
    "    else:\n",
    "        s1 = string[:mid]\n",
    "        s2 = string[mid+1:]\n",
    "\n",
    "    s2 = s2[::-1]\n",
    "    \n",
    "    if s1 == s2:\n",
    "        print('是palindrome!!!')\n",
    "    else:\n",
    "        print('不是palindrome')\n",
    "\n",
    "your_string = input('輸入一個字串')\n",
    "is_pa(your_string)\n"
   ]
  },
  {
   "cell_type": "markdown",
   "metadata": {},
   "source": [
    "### 10 - 總成績計算\n",
    "#### 說明 ####\n",
    "\n",
    "請讀取 `data/english_list.csv`與`data/math_list.csv`檔案(`utf-8`)後，將每位同學的英文與數學成績加總起來，並將檔案寫入至 `./Score.csv`中，編碼成`utf-8`<br>\n",
    "最後列印出每位學生姓名與加總後的分數<br>\n",
    "<a href=\"data\\english_list.csv\">英文成績下載</a><br>\n",
    "<a href=\"data\\math_list.csv\">數學成績下載</a><br>\n",
    "\n",
    "#### Input Format ####\n",
    "\n",
    "<br>\n",
    "csv資料(英文成績)<br>\n",
    "csv資料(數學成績)<br>\n",
    "<br>\n",
    "\n",
    "#### Output Format ####\n",
    "\n",
    "<br>\n",
    "\n",
    "![](data\\05.JPG)<br>\n",
    "<br>\n",
    "<br>\n",
    "(圖片參考用 以文字敘述為準)<br>\n",
    "\n",
    "\n",
    "\n",
    "\n",
    "#### Sample Input 1####\n",
    "\n",
    "\n",
    "\n",
    "```\n",
    "無標準輸入，只有檔案輸入\n",
    "```\n",
    "\n",
    "\n",
    "\n",
    "#### Sample Output 1####\n",
    "\n",
    "\n",
    "```\n",
    "廖冠霖 142\n",
    "王力中 124\n",
    "張平舜 108\n",
    ".\n",
    ".\n",
    ".\n",
    ".\n",
    ".\n",
    "陳姿茜 77\n",
    "涂珮瑜 134\n",
    "夏明哲 111\n",
    "\n",
    "```\n",
    "\n",
    "\n",
    "#### Hint ####\n",
    "\n",
    "\n",
    "\n",
    "```\n",
    "None\n",
    "```\n"
   ]
  },
  {
   "cell_type": "code",
   "execution_count": 36,
   "metadata": {},
   "outputs": [
    {
     "name": "stdout",
     "output_type": "stream",
     "text": [
      "廖冠霖 142\n",
      "王力中 124\n",
      "張平舜 108\n",
      "洪婷婷 128\n",
      "林士雨 86\n",
      "陳宗翰 28\n",
      "洪偉珊 134\n",
      "顏又芹 32\n",
      "王亦夏 55\n",
      "姚成華 77\n",
      "潘詠月 144\n",
      "倪浩迪 163\n",
      "郭心怡 109\n",
      "黃政聖 99\n",
      "顏曉雲 135\n",
      "彭曉雯 77\n",
      "葉健仁 117\n",
      "賴軒年 167\n",
      "韓致遠 52\n",
      "陳常芝 80\n",
      "黃佩樺 108\n",
      "林詩虹 178\n",
      "黃心卿 96\n",
      "郭奕全 101\n",
      "游子揚 127\n",
      "杜茜行 107\n",
      "李美一 64\n",
      "陳姿茜 77\n",
      "涂珮瑜 134\n",
      "夏明哲 111\n"
     ]
    },
    {
     "data": {
      "text/plain": [
       "'\\nline=\\'\\'\\nfout = open(\"Score.csv\",\"r\")\\nfor i in (len(name)):\\n    print()\\n'"
      ]
     },
     "execution_count": 36,
     "metadata": {},
     "output_type": "execute_result"
    }
   ],
   "source": [
    "fi_e = open('C:\\Users\\jocel\\Unit01\\data\\english_list.csv','r',encoding='utf-8')\n",
    "fi_m = open('C:\\Users\\jocel\\Unit01\\data\\math_list.csv','r',encoding='utf-8')\n",
    "\n",
    "list_e = []\n",
    "list_m = []\n",
    "name = []\n",
    "\n",
    "for line in fi_e.readlines():\n",
    "    line = line.strip().split(',')\n",
    "    name.append(line1[0])\n",
    "    list_e.append(line1[1])\n",
    "\n",
    "for line in fi_m.readlines():\n",
    "    line = line.strip().split(',')\n",
    "    list_m.append(line2[1])\n",
    "\n",
    "score = []\n",
    "line = ''\n",
    "fout = open('score.csv','w')\n",
    "for i in range(1,len(list_e)):\n",
    "    score.append(list_e[i]+list_m[i])\n",
    "    list1 = [name[i], str(score[i-1]),'\\n']\n",
    "    line = ','.join(list1)\n",
    "    fout.write(line)\n",
    "\n",
    "fi_e.close()\n",
    "fi_m.close()"
   ]
  },
  {
   "cell_type": "code",
   "execution_count": null,
   "metadata": {},
   "outputs": [],
   "source": []
  }
 ],
 "metadata": {
  "kernelspec": {
   "display_name": "Python 3 (ipykernel)",
   "language": "python",
   "name": "python3"
  },
  "language_info": {
   "codemirror_mode": {
    "name": "ipython",
    "version": 3
   },
   "file_extension": ".py",
   "mimetype": "text/x-python",
   "name": "python",
   "nbconvert_exporter": "python",
   "pygments_lexer": "ipython3",
   "version": "3.11.7"
  }
 },
 "nbformat": 4,
 "nbformat_minor": 4
}
